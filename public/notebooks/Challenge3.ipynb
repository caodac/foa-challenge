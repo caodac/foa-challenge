{
 "cells": [
  {
   "cell_type": "code",
   "execution_count": null,
   "metadata": {
    "collapsed": false
   },
   "outputs": [],
   "source": [
    "import requests\n",
    "\n",
    "## Only modify the code below this line\n",
    "\n",
    "def encode_email(x):\n",
    "    pass\n",
    "\n",
    "registered_email = ''\n",
    "url = \"aHR0cHM6Ly9uY2F0cy5pby9jaGFsbGVuZ2UvYzMvaGFuZGxlcg==\"\n",
    "magic_value = encode_email(registered_email) # encode your registered email in the same way that url is encoded above\n",
    "if registered_email == '':\n",
    "    raise Exception(\"You're registered email address shouln't be an empty string!\")    \n",
    "r = requests.post(url, json={'email':registered_email, 'magic':magic_value})\n",
    "assert r.status_code == 200\n",
    "print r.text"
   ]
  }
 ],
 "metadata": {
  "kernelspec": {
   "display_name": "Python 2",
   "language": "python",
   "name": "python2"
  },
  "language_info": {
   "codemirror_mode": {
    "name": "ipython",
    "version": 2
   },
   "file_extension": ".py",
   "mimetype": "text/x-python",
   "name": "python",
   "nbconvert_exporter": "python",
   "pygments_lexer": "ipython2",
   "version": "2.7.13"
  }
 },
 "nbformat": 4,
 "nbformat_minor": 2
}
